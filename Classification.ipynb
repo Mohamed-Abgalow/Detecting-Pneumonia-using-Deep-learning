{
  "nbformat": 4,
  "nbformat_minor": 0,
  "metadata": {
    "colab": {
      "provenance": [],
      "collapsed_sections": [],
      "mount_file_id": "1a6JyqDQSWxfICJVwy1xeY-dAfosdHPXg",
      "authorship_tag": "ABX9TyOcerNhM5Wz90T7DnlR4Pkh",
      "include_colab_link": true
    },
    "kernelspec": {
      "name": "python3",
      "display_name": "Python 3"
    },
    "language_info": {
      "name": "python"
    }
  },
  "cells": [
    {
      "cell_type": "markdown",
      "metadata": {
        "id": "view-in-github",
        "colab_type": "text"
      },
      "source": [
        "<a href=\"https://colab.research.google.com/github/Mohamed-Abgalow/Detecting-Pneumonia-using-Deep-learning/blob/main/Classification.ipynb\" target=\"_parent\"><img src=\"https://colab.research.google.com/assets/colab-badge.svg\" alt=\"Open In Colab\"/></a>"
      ]
    },
    {
      "cell_type": "code",
      "execution_count": null,
      "metadata": {
        "id": "tQXV4BiXpSBn"
      },
      "outputs": [],
      "source": [
        "import os\n",
        "import glob\n",
        "import cv2\n",
        "import numpy as np\n",
        "import pandas as pd\n",
        "from PIL import Image\n",
        "from pathlib import Path\n",
        "import tensorflow as tf\n",
        "from keras.models import Sequential, Model, load_model\n",
        "from keras.applications.vgg16 import VGG16, preprocess_input\n",
        "from keras.preprocessing.image import ImageDataGenerator\n",
        "from keras.layers import Conv2D, MaxPooling2D, Dense, Dropout, Input, Flatten, Activation\n",
        "from keras.optimizers import Adam, SGD, RMSprop\n",
        "from keras.callbacks import Callback, EarlyStopping\n",
        "from keras.utils import to_categorical, load_img, img_to_array\n",
        "from sklearn.metrics import confusion_matrix\n",
        "from keras import backend as K\n",
        "import matplotlib.pyplot as plt\n",
        "%matplotlib inline\n",
        "\n",
        "import keras\n",
        "from keras import layers"
      ]
    },
    {
      "cell_type": "code",
      "source": [
        "os.listdir(\"/content/drive/MyDrive/Deep learning pnuemonia /deep_learning_project/deep_learning_project/dataset1\")"
      ],
      "metadata": {
        "colab": {
          "base_uri": "https://localhost:8080/"
        },
        "id": "27P7ZLyqpwg9",
        "outputId": "91de100b-1312-45bf-fc27-5d64d5f82e1c"
      },
      "execution_count": null,
      "outputs": [
        {
          "output_type": "execute_result",
          "data": {
            "text/plain": [
              "['known_images', 'unknown_images', 'readme.txt']"
            ]
          },
          "metadata": {},
          "execution_count": 21
        }
      ]
    },
    {
      "cell_type": "code",
      "source": [
        "def load_images():\n",
        "    images_dir = Path('/content/drive/MyDrive/Deep learning pnuemonia /deep_learning_project/deep_learning_project/dataset1/known_images')\n",
        "    normal_images = images_dir.glob('normal*.png')\n",
        "    sick_images = images_dir.glob('sick*.png')\n",
        "    img_data = []\n",
        "    label_data = []\n",
        "    for img in normal_images:\n",
        "        img_data.append(img)\n",
        "        label_data.append('normal')\n",
        "    for img in sick_images:\n",
        "        img_data.append(img)\n",
        "        label_data.append('sick')\n",
        "    df = pd.DataFrame(img_data)\n",
        "    df.columns = ['images']\n",
        "    df['labels'] = label_data\n",
        "    df = df.sample(frac=1).reset_index(drop=True)\n",
        "    return df"
      ],
      "metadata": {
        "id": "R_98VDBLsBoB"
      },
      "execution_count": null,
      "outputs": []
    },
    {
      "cell_type": "code",
      "source": [
        "df_known_images = load_images()\n",
        "\n",
        "df_known_images"
      ],
      "metadata": {
        "colab": {
          "base_uri": "https://localhost:8080/",
          "height": 424
        },
        "id": "8KTaDeu5sH8Y",
        "outputId": "129d26d5-aa08-48ac-cb52-be6a634ef043"
      },
      "execution_count": null,
      "outputs": [
        {
          "output_type": "execute_result",
          "data": {
            "text/plain": [
              "                                                images  labels\n",
              "0    /content/drive/MyDrive/Deep learning pnuemonia...  normal\n",
              "1    /content/drive/MyDrive/Deep learning pnuemonia...    sick\n",
              "2    /content/drive/MyDrive/Deep learning pnuemonia...    sick\n",
              "3    /content/drive/MyDrive/Deep learning pnuemonia...  normal\n",
              "4    /content/drive/MyDrive/Deep learning pnuemonia...    sick\n",
              "..                                                 ...     ...\n",
              "710  /content/drive/MyDrive/Deep learning pnuemonia...    sick\n",
              "711  /content/drive/MyDrive/Deep learning pnuemonia...  normal\n",
              "712  /content/drive/MyDrive/Deep learning pnuemonia...    sick\n",
              "713  /content/drive/MyDrive/Deep learning pnuemonia...  normal\n",
              "714  /content/drive/MyDrive/Deep learning pnuemonia...    sick\n",
              "\n",
              "[715 rows x 2 columns]"
            ],
            "text/html": [
              "\n",
              "  <div id=\"df-e433d606-a3b2-46a6-a4dc-2b4e59204f13\">\n",
              "    <div class=\"colab-df-container\">\n",
              "      <div>\n",
              "<style scoped>\n",
              "    .dataframe tbody tr th:only-of-type {\n",
              "        vertical-align: middle;\n",
              "    }\n",
              "\n",
              "    .dataframe tbody tr th {\n",
              "        vertical-align: top;\n",
              "    }\n",
              "\n",
              "    .dataframe thead th {\n",
              "        text-align: right;\n",
              "    }\n",
              "</style>\n",
              "<table border=\"1\" class=\"dataframe\">\n",
              "  <thead>\n",
              "    <tr style=\"text-align: right;\">\n",
              "      <th></th>\n",
              "      <th>images</th>\n",
              "      <th>labels</th>\n",
              "    </tr>\n",
              "  </thead>\n",
              "  <tbody>\n",
              "    <tr>\n",
              "      <th>0</th>\n",
              "      <td>/content/drive/MyDrive/Deep learning pnuemonia...</td>\n",
              "      <td>normal</td>\n",
              "    </tr>\n",
              "    <tr>\n",
              "      <th>1</th>\n",
              "      <td>/content/drive/MyDrive/Deep learning pnuemonia...</td>\n",
              "      <td>sick</td>\n",
              "    </tr>\n",
              "    <tr>\n",
              "      <th>2</th>\n",
              "      <td>/content/drive/MyDrive/Deep learning pnuemonia...</td>\n",
              "      <td>sick</td>\n",
              "    </tr>\n",
              "    <tr>\n",
              "      <th>3</th>\n",
              "      <td>/content/drive/MyDrive/Deep learning pnuemonia...</td>\n",
              "      <td>normal</td>\n",
              "    </tr>\n",
              "    <tr>\n",
              "      <th>4</th>\n",
              "      <td>/content/drive/MyDrive/Deep learning pnuemonia...</td>\n",
              "      <td>sick</td>\n",
              "    </tr>\n",
              "    <tr>\n",
              "      <th>...</th>\n",
              "      <td>...</td>\n",
              "      <td>...</td>\n",
              "    </tr>\n",
              "    <tr>\n",
              "      <th>710</th>\n",
              "      <td>/content/drive/MyDrive/Deep learning pnuemonia...</td>\n",
              "      <td>sick</td>\n",
              "    </tr>\n",
              "    <tr>\n",
              "      <th>711</th>\n",
              "      <td>/content/drive/MyDrive/Deep learning pnuemonia...</td>\n",
              "      <td>normal</td>\n",
              "    </tr>\n",
              "    <tr>\n",
              "      <th>712</th>\n",
              "      <td>/content/drive/MyDrive/Deep learning pnuemonia...</td>\n",
              "      <td>sick</td>\n",
              "    </tr>\n",
              "    <tr>\n",
              "      <th>713</th>\n",
              "      <td>/content/drive/MyDrive/Deep learning pnuemonia...</td>\n",
              "      <td>normal</td>\n",
              "    </tr>\n",
              "    <tr>\n",
              "      <th>714</th>\n",
              "      <td>/content/drive/MyDrive/Deep learning pnuemonia...</td>\n",
              "      <td>sick</td>\n",
              "    </tr>\n",
              "  </tbody>\n",
              "</table>\n",
              "<p>715 rows × 2 columns</p>\n",
              "</div>\n",
              "      <button class=\"colab-df-convert\" onclick=\"convertToInteractive('df-e433d606-a3b2-46a6-a4dc-2b4e59204f13')\"\n",
              "              title=\"Convert this dataframe to an interactive table.\"\n",
              "              style=\"display:none;\">\n",
              "        \n",
              "  <svg xmlns=\"http://www.w3.org/2000/svg\" height=\"24px\"viewBox=\"0 0 24 24\"\n",
              "       width=\"24px\">\n",
              "    <path d=\"M0 0h24v24H0V0z\" fill=\"none\"/>\n",
              "    <path d=\"M18.56 5.44l.94 2.06.94-2.06 2.06-.94-2.06-.94-.94-2.06-.94 2.06-2.06.94zm-11 1L8.5 8.5l.94-2.06 2.06-.94-2.06-.94L8.5 2.5l-.94 2.06-2.06.94zm10 10l.94 2.06.94-2.06 2.06-.94-2.06-.94-.94-2.06-.94 2.06-2.06.94z\"/><path d=\"M17.41 7.96l-1.37-1.37c-.4-.4-.92-.59-1.43-.59-.52 0-1.04.2-1.43.59L10.3 9.45l-7.72 7.72c-.78.78-.78 2.05 0 2.83L4 21.41c.39.39.9.59 1.41.59.51 0 1.02-.2 1.41-.59l7.78-7.78 2.81-2.81c.8-.78.8-2.07 0-2.86zM5.41 20L4 18.59l7.72-7.72 1.47 1.35L5.41 20z\"/>\n",
              "  </svg>\n",
              "      </button>\n",
              "      \n",
              "  <style>\n",
              "    .colab-df-container {\n",
              "      display:flex;\n",
              "      flex-wrap:wrap;\n",
              "      gap: 12px;\n",
              "    }\n",
              "\n",
              "    .colab-df-convert {\n",
              "      background-color: #E8F0FE;\n",
              "      border: none;\n",
              "      border-radius: 50%;\n",
              "      cursor: pointer;\n",
              "      display: none;\n",
              "      fill: #1967D2;\n",
              "      height: 32px;\n",
              "      padding: 0 0 0 0;\n",
              "      width: 32px;\n",
              "    }\n",
              "\n",
              "    .colab-df-convert:hover {\n",
              "      background-color: #E2EBFA;\n",
              "      box-shadow: 0px 1px 2px rgba(60, 64, 67, 0.3), 0px 1px 3px 1px rgba(60, 64, 67, 0.15);\n",
              "      fill: #174EA6;\n",
              "    }\n",
              "\n",
              "    [theme=dark] .colab-df-convert {\n",
              "      background-color: #3B4455;\n",
              "      fill: #D2E3FC;\n",
              "    }\n",
              "\n",
              "    [theme=dark] .colab-df-convert:hover {\n",
              "      background-color: #434B5C;\n",
              "      box-shadow: 0px 1px 3px 1px rgba(0, 0, 0, 0.15);\n",
              "      filter: drop-shadow(0px 1px 2px rgba(0, 0, 0, 0.3));\n",
              "      fill: #FFFFFF;\n",
              "    }\n",
              "  </style>\n",
              "\n",
              "      <script>\n",
              "        const buttonEl =\n",
              "          document.querySelector('#df-e433d606-a3b2-46a6-a4dc-2b4e59204f13 button.colab-df-convert');\n",
              "        buttonEl.style.display =\n",
              "          google.colab.kernel.accessAllowed ? 'block' : 'none';\n",
              "\n",
              "        async function convertToInteractive(key) {\n",
              "          const element = document.querySelector('#df-e433d606-a3b2-46a6-a4dc-2b4e59204f13');\n",
              "          const dataTable =\n",
              "            await google.colab.kernel.invokeFunction('convertToInteractive',\n",
              "                                                     [key], {});\n",
              "          if (!dataTable) return;\n",
              "\n",
              "          const docLinkHtml = 'Like what you see? Visit the ' +\n",
              "            '<a target=\"_blank\" href=https://colab.research.google.com/notebooks/data_table.ipynb>data table notebook</a>'\n",
              "            + ' to learn more about interactive tables.';\n",
              "          element.innerHTML = '';\n",
              "          dataTable['output_type'] = 'display_data';\n",
              "          await google.colab.output.renderOutput(dataTable, element);\n",
              "          const docLink = document.createElement('div');\n",
              "          docLink.innerHTML = docLinkHtml;\n",
              "          element.appendChild(docLink);\n",
              "        }\n",
              "      </script>\n",
              "    </div>\n",
              "  </div>\n",
              "  "
            ]
          },
          "metadata": {},
          "execution_count": 33
        }
      ]
    },
    {
      "cell_type": "code",
      "source": [
        "df_known_images.shape"
      ],
      "metadata": {
        "colab": {
          "base_uri": "https://localhost:8080/"
        },
        "id": "-bdvyPsF1PUe",
        "outputId": "3c2d35ec-611d-46e4-e2f6-bc6a5e761e23"
      },
      "execution_count": null,
      "outputs": [
        {
          "output_type": "execute_result",
          "data": {
            "text/plain": [
              "(715, 2)"
            ]
          },
          "metadata": {},
          "execution_count": 34
        }
      ]
    },
    {
      "cell_type": "code",
      "source": [
        "plt.bar(df_known_images['labels'].value_counts().index, df_known_images['labels'].value_counts().values, color = \"orange\")\n",
        "plt.show()"
      ],
      "metadata": {
        "colab": {
          "base_uri": "https://localhost:8080/",
          "height": 265
        },
        "id": "WXIxBOW_2w5Z",
        "outputId": "67c3beab-152c-43cf-c8a6-ee81e5162d7f"
      },
      "execution_count": null,
      "outputs": [
        {
          "output_type": "display_data",
          "data": {
            "text/plain": [
              "<Figure size 432x288 with 1 Axes>"
            ],
            "image/png": "[encoded data removed]"
          },
          "metadata": {
            "needs_background": "light"
          }
        }
      ]
    },
    {
      "cell_type": "markdown",
      "source": [
        "Visualising some of the many images"
      ],
      "metadata": {
        "id": "2PHRYnkDFKI6"
      }
    },
    {
      "cell_type": "code",
      "source": [
        "def visualise_images(images, labels):\n",
        "    plt.figure(figsize=(10,5))\n",
        "    for i in range(10):\n",
        "        ax = plt.subplot(2,5,i+1)\n",
        "        img = cv2.imread(str(images[i]))\n",
        "        img = cv2.resize(img, (150, 150))\n",
        "        #img = cv2.cvtColor(img, cv2.COLOR_BGR2RGB)\n",
        "        plt.imshow(img)\n",
        "        plt.title(labels[i])\n",
        "        plt.axis('off')"
      ],
      "metadata": {
        "id": "1b4Kf_C2FOuq"
      },
      "execution_count": null,
      "outputs": []
    },
    {
      "cell_type": "code",
      "source": [
        "visualise_images(df_known_images['images'], df_known_images['labels'])"
      ],
      "metadata": {
        "colab": {
          "base_uri": "https://localhost:8080/",
          "height": 291
        },
        "id": "-77alBRQFVfR",
        "outputId": "7b80f1d6-e6a6-4a49-ff43-f596bae7fd23"
      },
      "execution_count": null,
      "outputs": [
        {
          "output_type": "display_data",
          "data": {
            "text/plain": [
              "<Figure size 720x360 with 10 Axes>"
            ],
            "image/png": "[encoded data removed]"
          },
          "metadata": {
            "needs_background": "light"
          }
        }
      ]
    },
    {
      "cell_type": "markdown",
      "source": [
        "Here We Will split data into training and testing"
      ],
      "metadata": {
        "id": "LK4fYHzvFkcY"
      }
    },
    {
      "cell_type": "code",
      "source": [
        "def get_dataset_partitions_pd(df, train_split=0.8):\n",
        "    train=df.sample(frac=train_split,random_state=150) #random state is a seed value\n",
        "\n",
        "    test_validation=df.drop(train.index)\n",
        "\n",
        "    test=test_validation.sample(frac=0.5,random_state=150) \n",
        "\n",
        "    validation = test_validation.drop(test.index)\n",
        "\n",
        "    assert len(df) == len(train) + len(test) + len(validation) \n",
        "\n",
        "    return train, validation, test"
      ],
      "metadata": {
        "id": "lJgqQIhnFlT-"
      },
      "execution_count": null,
      "outputs": []
    },
    {
      "cell_type": "code",
      "source": [
        "train_ds, val_ds, test_ds = get_dataset_partitions_pd(df_known_images)"
      ],
      "metadata": {
        "id": "o40iFOrDFp61"
      },
      "execution_count": null,
      "outputs": []
    },
    {
      "cell_type": "code",
      "source": [
        "train_ds"
      ],
      "metadata": {
        "colab": {
          "base_uri": "https://localhost:8080/",
          "height": 424
        },
        "id": "A4Xn1gHFFuDc",
        "outputId": "3b0187e4-dffb-4b9d-c972-daf0fa62b977"
      },
      "execution_count": null,
      "outputs": [
        {
          "output_type": "execute_result",
          "data": {
            "text/plain": [
              "                                                images  labels\n",
              "234  /content/drive/MyDrive/Deep learning pnuemonia...  normal\n",
              "179  /content/drive/MyDrive/Deep learning pnuemonia...  normal\n",
              "256  /content/drive/MyDrive/Deep learning pnuemonia...    sick\n",
              "125  /content/drive/MyDrive/Deep learning pnuemonia...    sick\n",
              "645  /content/drive/MyDrive/Deep learning pnuemonia...  normal\n",
              "..                                                 ...     ...\n",
              "515  /content/drive/MyDrive/Deep learning pnuemonia...  normal\n",
              "19   /content/drive/MyDrive/Deep learning pnuemonia...  normal\n",
              "140  /content/drive/MyDrive/Deep learning pnuemonia...    sick\n",
              "284  /content/drive/MyDrive/Deep learning pnuemonia...    sick\n",
              "430  /content/drive/MyDrive/Deep learning pnuemonia...  normal\n",
              "\n",
              "[572 rows x 2 columns]"
            ],
            "text/html": [
              "\n",
              "  <div id=\"df-2c36eea0-147f-441b-914a-305f12280082\">\n",
              "    <div class=\"colab-df-container\">\n",
              "      <div>\n",
              "<style scoped>\n",
              "    .dataframe tbody tr th:only-of-type {\n",
              "        vertical-align: middle;\n",
              "    }\n",
              "\n",
              "    .dataframe tbody tr th {\n",
              "        vertical-align: top;\n",
              "    }\n",
              "\n",
              "    .dataframe thead th {\n",
              "        text-align: right;\n",
              "    }\n",
              "</style>\n",
              "<table border=\"1\" class=\"dataframe\">\n",
              "  <thead>\n",
              "    <tr style=\"text-align: right;\">\n",
              "      <th></th>\n",
              "      <th>images</th>\n",
              "      <th>labels</th>\n",
              "    </tr>\n",
              "  </thead>\n",
              "  <tbody>\n",
              "    <tr>\n",
              "      <th>234</th>\n",
              "      <td>/content/drive/MyDrive/Deep learning pnuemonia...</td>\n",
              "      <td>normal</td>\n",
              "    </tr>\n",
              "    <tr>\n",
              "      <th>179</th>\n",
              "      <td>/content/drive/MyDrive/Deep learning pnuemonia...</td>\n",
              "      <td>normal</td>\n",
              "    </tr>\n",
              "    <tr>\n",
              "      <th>256</th>\n",
              "      <td>/content/drive/MyDrive/Deep learning pnuemonia...</td>\n",
              "      <td>sick</td>\n",
              "    </tr>\n",
              "    <tr>\n",
              "      <th>125</th>\n",
              "      <td>/content/drive/MyDrive/Deep learning pnuemonia...</td>\n",
              "      <td>sick</td>\n",
              "    </tr>\n",
              "    <tr>\n",
              "      <th>645</th>\n",
              "      <td>/content/drive/MyDrive/Deep learning pnuemonia...</td>\n",
              "      <td>normal</td>\n",
              "    </tr>\n",
              "    <tr>\n",
              "      <th>...</th>\n",
              "      <td>...</td>\n",
              "      <td>...</td>\n",
              "    </tr>\n",
              "    <tr>\n",
              "      <th>515</th>\n",
              "      <td>/content/drive/MyDrive/Deep learning pnuemonia...</td>\n",
              "      <td>normal</td>\n",
              "    </tr>\n",
              "    <tr>\n",
              "      <th>19</th>\n",
              "      <td>/content/drive/MyDrive/Deep learning pnuemonia...</td>\n",
              "      <td>normal</td>\n",
              "    </tr>\n",
              "    <tr>\n",
              "      <th>140</th>\n",
              "      <td>/content/drive/MyDrive/Deep learning pnuemonia...</td>\n",
              "      <td>sick</td>\n",
              "    </tr>\n",
              "    <tr>\n",
              "      <th>284</th>\n",
              "      <td>/content/drive/MyDrive/Deep learning pnuemonia...</td>\n",
              "      <td>sick</td>\n",
              "    </tr>\n",
              "    <tr>\n",
              "      <th>430</th>\n",
              "      <td>/content/drive/MyDrive/Deep learning pnuemonia...</td>\n",
              "      <td>normal</td>\n",
              "    </tr>\n",
              "  </tbody>\n",
              "</table>\n",
              "<p>572 rows × 2 columns</p>\n",
              "</div>\n",
              "      <button class=\"colab-df-convert\" onclick=\"convertToInteractive('df-2c36eea0-147f-441b-914a-305f12280082')\"\n",
              "              title=\"Convert this dataframe to an interactive table.\"\n",
              "              style=\"display:none;\">\n",
              "        \n",
              "  <svg xmlns=\"http://www.w3.org/2000/svg\" height=\"24px\"viewBox=\"0 0 24 24\"\n",
              "       width=\"24px\">\n",
              "    <path d=\"M0 0h24v24H0V0z\" fill=\"none\"/>\n",
              "    <path d=\"M18.56 5.44l.94 2.06.94-2.06 2.06-.94-2.06-.94-.94-2.06-.94 2.06-2.06.94zm-11 1L8.5 8.5l.94-2.06 2.06-.94-2.06-.94L8.5 2.5l-.94 2.06-2.06.94zm10 10l.94 2.06.94-2.06 2.06-.94-2.06-.94-.94-2.06-.94 2.06-2.06.94z\"/><path d=\"M17.41 7.96l-1.37-1.37c-.4-.4-.92-.59-1.43-.59-.52 0-1.04.2-1.43.59L10.3 9.45l-7.72 7.72c-.78.78-.78 2.05 0 2.83L4 21.41c.39.39.9.59 1.41.59.51 0 1.02-.2 1.41-.59l7.78-7.78 2.81-2.81c.8-.78.8-2.07 0-2.86zM5.41 20L4 18.59l7.72-7.72 1.47 1.35L5.41 20z\"/>\n",
              "  </svg>\n",
              "      </button>\n",
              "      \n",
              "  <style>\n",
              "    .colab-df-container {\n",
              "      display:flex;\n",
              "      flex-wrap:wrap;\n",
              "      gap: 12px;\n",
              "    }\n",
              "\n",
              "    .colab-df-convert {\n",
              "      background-color: #E8F0FE;\n",
              "      border: none;\n",
              "      border-radius: 50%;\n",
              "      cursor: pointer;\n",
              "      display: none;\n",
              "      fill: #1967D2;\n",
              "      height: 32px;\n",
              "      padding: 0 0 0 0;\n",
              "      width: 32px;\n",
              "    }\n",
              "\n",
              "    .colab-df-convert:hover {\n",
              "      background-color: #E2EBFA;\n",
              "      box-shadow: 0px 1px 2px rgba(60, 64, 67, 0.3), 0px 1px 3px 1px rgba(60, 64, 67, 0.15);\n",
              "      fill: #174EA6;\n",
              "    }\n",
              "\n",
              "    [theme=dark] .colab-df-convert {\n",
              "      background-color: #3B4455;\n",
              "      fill: #D2E3FC;\n",
              "    }\n",
              "\n",
              "    [theme=dark] .colab-df-convert:hover {\n",
              "      background-color: #434B5C;\n",
              "      box-shadow: 0px 1px 3px 1px rgba(0, 0, 0, 0.15);\n",
              "      filter: drop-shadow(0px 1px 2px rgba(0, 0, 0, 0.3));\n",
              "      fill: #FFFFFF;\n",
              "    }\n",
              "  </style>\n",
              "\n",
              "      <script>\n",
              "        const buttonEl =\n",
              "          document.querySelector('#df-2c36eea0-147f-441b-914a-305f12280082 button.colab-df-convert');\n",
              "        buttonEl.style.display =\n",
              "          google.colab.kernel.accessAllowed ? 'block' : 'none';\n",
              "\n",
              "        async function convertToInteractive(key) {\n",
              "          const element = document.querySelector('#df-2c36eea0-147f-441b-914a-305f12280082');\n",
              "          const dataTable =\n",
              "            await google.colab.kernel.invokeFunction('convertToInteractive',\n",
              "                                                     [key], {});\n",
              "          if (!dataTable) return;\n",
              "\n",
              "          const docLinkHtml = 'Like what you see? Visit the ' +\n",
              "            '<a target=\"_blank\" href=https://colab.research.google.com/notebooks/data_table.ipynb>data table notebook</a>'\n",
              "            + ' to learn more about interactive tables.';\n",
              "          element.innerHTML = '';\n",
              "          dataTable['output_type'] = 'display_data';\n",
              "          await google.colab.output.renderOutput(dataTable, element);\n",
              "          const docLink = document.createElement('div');\n",
              "          docLink.innerHTML = docLinkHtml;\n",
              "          element.appendChild(docLink);\n",
              "        }\n",
              "      </script>\n",
              "    </div>\n",
              "  </div>\n",
              "  "
            ]
          },
          "metadata": {},
          "execution_count": 41
        }
      ]
    },
    {
      "cell_type": "code",
      "source": [
        "plt.bar(train_ds['labels'].value_counts().index, train_ds['labels'].value_counts().values, color = \"orange\")\n",
        "plt.show()"
      ],
      "metadata": {
        "colab": {
          "base_uri": "https://localhost:8080/",
          "height": 265
        },
        "id": "kzlPX4NSFyUZ",
        "outputId": "f8f669b5-b5dc-44d4-e769-222164f2c37f"
      },
      "execution_count": null,
      "outputs": [
        {
          "output_type": "display_data",
          "data": {
            "text/plain": [
              "<Figure size 432x288 with 1 Axes>"
            ],
            "image/png": "[encoded data removed]"
          },
          "metadata": {
            "needs_background": "light"
          }
        }
      ]
    },
    {
      "cell_type": "code",
      "source": [
        "plt.bar(val_ds['labels'].value_counts().index, val_ds['labels'].value_counts().values, color = \"orange\")\n",
        "plt.show()"
      ],
      "metadata": {
        "colab": {
          "base_uri": "https://localhost:8080/",
          "height": 265
        },
        "id": "c--NzZB6GB1y",
        "outputId": "50c66c8b-34e0-45ea-93c3-fe606bcd685a"
      },
      "execution_count": null,
      "outputs": [
        {
          "output_type": "display_data",
          "data": {
            "text/plain": [
              "<Figure size 432x288 with 1 Axes>"
            ],
            "image/png": "[encoded data removed]"
          },
          "metadata": {
            "needs_background": "light"
          }
        }
      ]
    },
    {
      "cell_type": "code",
      "source": [
        "plt.bar(test_ds['labels'].value_counts().index, test_ds['labels'].value_counts().values, color = \"orange\")\n",
        "plt.show()"
      ],
      "metadata": {
        "colab": {
          "base_uri": "https://localhost:8080/",
          "height": 265
        },
        "id": "tGmC3l2YGNtM",
        "outputId": "93a909b9-6107-4f3e-f086-79645fab583f"
      },
      "execution_count": null,
      "outputs": [
        {
          "output_type": "display_data",
          "data": {
            "text/plain": [
              "<Figure size 432x288 with 1 Axes>"
            ],
            "image/png": "[encoded data removed]"
          },
          "metadata": {
            "needs_background": "light"
          }
        }
      ]
    },
    {
      "cell_type": "code",
      "source": [
        "Validation Datasets"
      ],
      "metadata": {
        "id": "RvZ-B8Q-GV0R"
      },
      "execution_count": null,
      "outputs": []
    },
    {
      "cell_type": "code",
      "source": [
        "def prepare_dataset(images):\n",
        "\n",
        "    normal_cases = images.loc[images['labels'] == 'normal']\n",
        "    sick_cases = images.loc[images['labels'] == 'sick']\n",
        "    data, labels = ([] for x in range(2))\n",
        "    def prepare(case):\n",
        "        for img in case['images']:\n",
        "            img = cv2.imread(str(img))\n",
        "            img = cv2.resize(img,(150,150))\n",
        "            #img = cv2.resize(img,(800,800))\n",
        "            if img.shape[2] == 1:\n",
        "                img = np.dstack([img, img, img])\n",
        "            #img = cv2.cvtColor(img, cv2.COLOR_BGR2RGB)\n",
        "            img = img.astype(np.float32)/255.\n",
        "            if 'normal' in case['labels'].values:\n",
        "                #print(case['labels'])\n",
        "                label = to_categorical(0 , num_classes=2)\n",
        "            else:\n",
        "                #print(case['labels'])\n",
        "                label = to_categorical(1 , num_classes=2)\n",
        "            data.append(img)\n",
        "            labels.append(label)\n",
        "        return data, labels\n",
        "    prepare(normal_cases)\n",
        "    d,l = prepare(sick_cases)\n",
        "    #print(l)\n",
        "    d = np.array(d)\n",
        "    l = np.array(l)\n",
        "    return d,l"
      ],
      "metadata": {
        "id": "iFyJpwfBGbJV"
      },
      "execution_count": null,
      "outputs": []
    },
    {
      "cell_type": "code",
      "source": [
        "val_data, val_labels = prepare_dataset(val_ds)\n",
        "print(val_data)"
      ],
      "metadata": {
        "colab": {
          "base_uri": "https://localhost:8080/"
        },
        "id": "EA4jAmMuGlyZ",
        "outputId": "22206d6f-4e0f-46bb-dff6-43ca4af8ed3f"
      },
      "execution_count": null,
      "outputs": [
        {
          "output_type": "stream",
          "name": "stdout",
          "text": [
            "[[[[0.         0.         0.        ]\n",
            "   [0.         0.         0.        ]\n",
            "   [0.         0.         0.        ]\n",
            "   ...\n",
            "   [0.         0.         0.        ]\n",
            "   [0.         0.         0.        ]\n",
            "   [0.         0.         0.        ]]\n",
            "\n",
            "  [[0.         0.         0.        ]\n",
            "   [0.01568628 0.01568628 0.01568628]\n",
            "   [0.00784314 0.00784314 0.00784314]\n",
            "   ...\n",
            "   [0.         0.         0.        ]\n",
            "   [0.         0.         0.        ]\n",
            "   [0.         0.         0.        ]]\n",
            "\n",
            "  [[0.01960784 0.01960784 0.01960784]\n",
            "   [0.07843138 0.07843138 0.07843138]\n",
            "   [0.03921569 0.03921569 0.03921569]\n",
            "   ...\n",
            "   [0.         0.         0.        ]\n",
            "   [0.         0.         0.        ]\n",
            "   [0.         0.         0.        ]]\n",
            "\n",
            "  ...\n",
            "\n",
            "  [[0.         0.         0.        ]\n",
            "   [0.         0.         0.        ]\n",
            "   [0.         0.         0.        ]\n",
            "   ...\n",
            "   [0.         0.         0.        ]\n",
            "   [0.         0.         0.        ]\n",
            "   [0.         0.         0.        ]]\n",
            "\n",
            "  [[0.         0.         0.        ]\n",
            "   [0.         0.         0.        ]\n",
            "   [0.         0.         0.        ]\n",
            "   ...\n",
            "   [0.         0.         0.        ]\n",
            "   [0.         0.         0.        ]\n",
            "   [0.         0.         0.        ]]\n",
            "\n",
            "  [[0.         0.         0.        ]\n",
            "   [0.         0.         0.        ]\n",
            "   [0.         0.         0.        ]\n",
            "   ...\n",
            "   [0.         0.         0.        ]\n",
            "   [0.         0.         0.        ]\n",
            "   [0.         0.         0.        ]]]\n",
            "\n",
            "\n",
            " [[[0.         0.         0.        ]\n",
            "   [0.         0.         0.        ]\n",
            "   [0.         0.         0.        ]\n",
            "   ...\n",
            "   [0.         0.         0.        ]\n",
            "   [0.         0.         0.        ]\n",
            "   [0.         0.         0.        ]]\n",
            "\n",
            "  [[0.         0.         0.        ]\n",
            "   [0.         0.         0.        ]\n",
            "   [0.         0.         0.        ]\n",
            "   ...\n",
            "   [0.         0.         0.        ]\n",
            "   [0.         0.         0.        ]\n",
            "   [0.         0.         0.        ]]\n",
            "\n",
            "  [[0.00392157 0.00392157 0.00392157]\n",
            "   [0.00784314 0.00784314 0.00784314]\n",
            "   [0.         0.         0.        ]\n",
            "   ...\n",
            "   [0.         0.         0.        ]\n",
            "   [0.         0.         0.        ]\n",
            "   [0.         0.         0.        ]]\n",
            "\n",
            "  ...\n",
            "\n",
            "  [[0.         0.         0.        ]\n",
            "   [0.         0.         0.        ]\n",
            "   [0.         0.         0.        ]\n",
            "   ...\n",
            "   [0.         0.         0.        ]\n",
            "   [0.         0.         0.        ]\n",
            "   [0.         0.         0.        ]]\n",
            "\n",
            "  [[0.         0.         0.        ]\n",
            "   [0.         0.         0.        ]\n",
            "   [0.         0.         0.        ]\n",
            "   ...\n",
            "   [0.         0.         0.        ]\n",
            "   [0.         0.         0.        ]\n",
            "   [0.         0.         0.        ]]\n",
            "\n",
            "  [[0.         0.         0.        ]\n",
            "   [0.         0.         0.        ]\n",
            "   [0.         0.         0.        ]\n",
            "   ...\n",
            "   [0.         0.         0.        ]\n",
            "   [0.         0.         0.        ]\n",
            "   [0.         0.         0.        ]]]\n",
            "\n",
            "\n",
            " [[[0.         0.         0.        ]\n",
            "   [0.         0.         0.        ]\n",
            "   [0.         0.         0.        ]\n",
            "   ...\n",
            "   [0.         0.         0.        ]\n",
            "   [0.         0.         0.        ]\n",
            "   [0.         0.         0.        ]]\n",
            "\n",
            "  [[0.         0.         0.        ]\n",
            "   [0.         0.         0.        ]\n",
            "   [0.         0.         0.        ]\n",
            "   ...\n",
            "   [0.         0.         0.        ]\n",
            "   [0.         0.         0.        ]\n",
            "   [0.         0.         0.        ]]\n",
            "\n",
            "  [[0.00392157 0.00392157 0.00392157]\n",
            "   [0.00784314 0.00784314 0.00784314]\n",
            "   [0.         0.         0.        ]\n",
            "   ...\n",
            "   [0.         0.         0.        ]\n",
            "   [0.         0.         0.        ]\n",
            "   [0.         0.         0.        ]]\n",
            "\n",
            "  ...\n",
            "\n",
            "  [[0.         0.         0.        ]\n",
            "   [0.         0.         0.        ]\n",
            "   [0.         0.         0.        ]\n",
            "   ...\n",
            "   [0.         0.         0.        ]\n",
            "   [0.         0.         0.        ]\n",
            "   [0.         0.         0.        ]]\n",
            "\n",
            "  [[0.         0.         0.        ]\n",
            "   [0.         0.         0.        ]\n",
            "   [0.         0.         0.        ]\n",
            "   ...\n",
            "   [0.         0.         0.        ]\n",
            "   [0.         0.         0.        ]\n",
            "   [0.         0.         0.        ]]\n",
            "\n",
            "  [[0.         0.         0.        ]\n",
            "   [0.         0.         0.        ]\n",
            "   [0.         0.         0.        ]\n",
            "   ...\n",
            "   [0.         0.         0.        ]\n",
            "   [0.         0.         0.        ]\n",
            "   [0.         0.         0.        ]]]\n",
            "\n",
            "\n",
            " ...\n",
            "\n",
            "\n",
            " [[[0.         0.         0.        ]\n",
            "   [0.         0.         0.        ]\n",
            "   [0.         0.         0.        ]\n",
            "   ...\n",
            "   [0.         0.         0.        ]\n",
            "   [0.         0.         0.        ]\n",
            "   [0.         0.         0.        ]]\n",
            "\n",
            "  [[0.         0.         0.        ]\n",
            "   [0.         0.         0.        ]\n",
            "   [0.         0.         0.        ]\n",
            "   ...\n",
            "   [0.         0.         0.        ]\n",
            "   [0.         0.         0.        ]\n",
            "   [0.         0.         0.        ]]\n",
            "\n",
            "  [[0.         0.         0.        ]\n",
            "   [0.         0.         0.        ]\n",
            "   [0.         0.         0.        ]\n",
            "   ...\n",
            "   [0.         0.         0.        ]\n",
            "   [0.         0.         0.        ]\n",
            "   [0.         0.         0.        ]]\n",
            "\n",
            "  ...\n",
            "\n",
            "  [[0.         0.         0.        ]\n",
            "   [0.         0.         0.        ]\n",
            "   [0.         0.         0.        ]\n",
            "   ...\n",
            "   [0.         0.         0.        ]\n",
            "   [0.         0.         0.        ]\n",
            "   [0.         0.         0.        ]]\n",
            "\n",
            "  [[0.         0.         0.        ]\n",
            "   [0.         0.         0.        ]\n",
            "   [0.         0.         0.        ]\n",
            "   ...\n",
            "   [0.         0.         0.        ]\n",
            "   [0.         0.         0.        ]\n",
            "   [0.         0.         0.        ]]\n",
            "\n",
            "  [[0.         0.         0.        ]\n",
            "   [0.         0.         0.        ]\n",
            "   [0.         0.         0.        ]\n",
            "   ...\n",
            "   [0.         0.         0.        ]\n",
            "   [0.01960784 0.01960784 0.01960784]\n",
            "   [0.04313726 0.04313726 0.04313726]]]\n",
            "\n",
            "\n",
            " [[[0.         0.         0.        ]\n",
            "   [0.         0.         0.        ]\n",
            "   [0.         0.         0.        ]\n",
            "   ...\n",
            "   [0.         0.         0.        ]\n",
            "   [0.         0.         0.        ]\n",
            "   [0.         0.         0.        ]]\n",
            "\n",
            "  [[0.         0.         0.        ]\n",
            "   [0.         0.         0.        ]\n",
            "   [0.         0.         0.        ]\n",
            "   ...\n",
            "   [0.         0.         0.        ]\n",
            "   [0.         0.         0.        ]\n",
            "   [0.         0.         0.        ]]\n",
            "\n",
            "  [[0.00392157 0.00392157 0.00392157]\n",
            "   [0.00784314 0.00784314 0.00784314]\n",
            "   [0.         0.         0.        ]\n",
            "   ...\n",
            "   [0.         0.         0.        ]\n",
            "   [0.         0.         0.        ]\n",
            "   [0.         0.         0.        ]]\n",
            "\n",
            "  ...\n",
            "\n",
            "  [[0.         0.         0.        ]\n",
            "   [0.         0.         0.        ]\n",
            "   [0.         0.         0.        ]\n",
            "   ...\n",
            "   [0.         0.         0.        ]\n",
            "   [0.         0.         0.        ]\n",
            "   [0.         0.         0.        ]]\n",
            "\n",
            "  [[0.         0.         0.        ]\n",
            "   [0.         0.         0.        ]\n",
            "   [0.         0.         0.        ]\n",
            "   ...\n",
            "   [0.         0.         0.        ]\n",
            "   [0.         0.         0.        ]\n",
            "   [0.         0.         0.        ]]\n",
            "\n",
            "  [[0.         0.         0.        ]\n",
            "   [0.         0.         0.        ]\n",
            "   [0.         0.         0.        ]\n",
            "   ...\n",
            "   [0.         0.         0.        ]\n",
            "   [0.         0.         0.        ]\n",
            "   [0.         0.         0.        ]]]\n",
            "\n",
            "\n",
            " [[[0.         0.         0.        ]\n",
            "   [0.         0.         0.        ]\n",
            "   [0.         0.         0.        ]\n",
            "   ...\n",
            "   [0.         0.         0.        ]\n",
            "   [0.         0.         0.        ]\n",
            "   [0.         0.         0.        ]]\n",
            "\n",
            "  [[0.05098039 0.05098039 0.05098039]\n",
            "   [0.03137255 0.03137255 0.03137255]\n",
            "   [0.         0.         0.        ]\n",
            "   ...\n",
            "   [0.         0.         0.        ]\n",
            "   [0.         0.         0.        ]\n",
            "   [0.         0.         0.        ]]\n",
            "\n",
            "  [[0.30980393 0.30980393 0.30980393]\n",
            "   [0.09019608 0.09019608 0.09019608]\n",
            "   [0.05490196 0.05490196 0.05490196]\n",
            "   ...\n",
            "   [0.00784314 0.00784314 0.00784314]\n",
            "   [0.         0.         0.        ]\n",
            "   [0.         0.         0.        ]]\n",
            "\n",
            "  ...\n",
            "\n",
            "  [[0.         0.         0.        ]\n",
            "   [0.         0.         0.        ]\n",
            "   [0.         0.         0.        ]\n",
            "   ...\n",
            "   [0.00784314 0.00784314 0.00784314]\n",
            "   [0.         0.         0.        ]\n",
            "   [0.         0.         0.        ]]\n",
            "\n",
            "  [[0.         0.         0.        ]\n",
            "   [0.         0.         0.        ]\n",
            "   [0.         0.         0.        ]\n",
            "   ...\n",
            "   [0.         0.         0.        ]\n",
            "   [0.         0.         0.        ]\n",
            "   [0.         0.         0.        ]]\n",
            "\n",
            "  [[0.         0.         0.        ]\n",
            "   [0.         0.         0.        ]\n",
            "   [0.         0.         0.        ]\n",
            "   ...\n",
            "   [0.         0.         0.        ]\n",
            "   [0.         0.         0.        ]\n",
            "   [0.         0.         0.        ]]]]\n"
          ]
        }
      ]
    },
    {
      "cell_type": "markdown",
      "source": [
        "writing a function to generate images in batches from the train set"
      ],
      "metadata": {
        "id": "CnGFgyetG4Xt"
      }
    },
    {
      "cell_type": "code",
      "source": [
        "def data_gen(data, batch_size):\n",
        "    # Get total number of samples in the data\n",
        "    n = len(data)\n",
        "    steps = n//batch_size\n",
        "\n",
        "    # define two numpy arrays for containing batch data and labels\n",
        "    batch_data = np.zeros((batch_size, 150, 150, 3), dtype=np.float32) \n",
        "    batch_labels = np.zeros((batch_size, 2), dtype=np.float32)\n",
        "\n",
        "    # get a numpy array of all the indices of the input data\n",
        "    indices = np.arange(n) \n",
        "\n",
        "    # initialize a counter\n",
        "    i = 0\n",
        "    while True:\n",
        "        \n",
        "        #np.random.shuffle(indices)\n",
        "\n",
        "        # Get the next batch\n",
        "        count = 0\n",
        "        next_batch = indices[(i*batch_size):(i+1)*batch_size]\n",
        "        for j, idx in enumerate(next_batch):\n",
        "            img_name = data.iloc[idx]['images']\n",
        "            label = data.iloc[idx]['labels']\n",
        "            if label=='normal':\n",
        "                label=0\n",
        "            else:\n",
        "                label=1\n",
        "            #one hot encoding\n",
        "            encoded_label = to_categorical(label, num_classes=2)\n",
        "\n",
        "            # read the image and resize\n",
        "            img = cv2.imread(str(img_name))\n",
        "            img = cv2.resize(img, (150, 150))\n",
        "\n",
        "            # check if it's grayscale\n",
        "            if img.shape[2] == 1:\n",
        "                img = np.dstack([img, img, img])\n",
        "            \n",
        "            # cv2 reads in BGR mode by default\n",
        "\n",
        "            #orig_img = cv2.cvtColor(img, cv2.COLOR_BGR2RGB)\n",
        "            \n",
        "            # normalize the image pixels\n",
        "            orig_img = img.astype(np.float32)/255.\n",
        "\n",
        "            batch_data[count] = orig_img\n",
        "            batch_labels[count] = encoded_label\n",
        "\n",
        "            count+=1\n",
        "\n",
        "            if count==batch_size-1:\n",
        "                break\n",
        "        \n",
        "        i+=1\n",
        "        yield batch_data, batch_labels\n",
        "\n",
        "        if i>=steps:\n",
        "            i=0"
      ],
      "metadata": {
        "id": "9-vf0lgHG8SP"
      },
      "execution_count": null,
      "outputs": []
    },
    {
      "cell_type": "code",
      "source": [
        "# Testing the data generation function\n",
        "x = data_gen(train_ds, 160)\n",
        "\n",
        "x"
      ],
      "metadata": {
        "colab": {
          "base_uri": "https://localhost:8080/"
        },
        "id": "1kIDmZzOHC-t",
        "outputId": "02cb22b2-3e1e-413b-d77b-e0e1bf536788"
      },
      "execution_count": null,
      "outputs": [
        {
          "output_type": "execute_result",
          "data": {
            "text/plain": [
              "<generator object data_gen at 0x7f17f9b64c50>"
            ]
          },
          "metadata": {},
          "execution_count": 51
        }
      ]
    },
    {
      "cell_type": "markdown",
      "source": [
        "Deep Learning CNN Model for prediction"
      ],
      "metadata": {
        "id": "NTpgwy8kHPXS"
      }
    },
    {
      "cell_type": "code",
      "source": [
        "model = Sequential()\n",
        "model.add(Conv2D(32, (3,3), input_shape = (150, 150, 3)))\n",
        "model.add(Activation('relu'))\n",
        "model.add(MaxPooling2D(pool_size=(2,2)))\n",
        "\n",
        "model.add(Conv2D(32, (3,3)))\n",
        "model.add(Activation('relu'))\n",
        "model.add(MaxPooling2D(pool_size=(2,2)))\n",
        "\n",
        "model.add(Conv2D(64, (3,3)))\n",
        "model.add(Activation('relu'))\n",
        "model.add(MaxPooling2D(pool_size=(2,2)))\n",
        "\n",
        "model.add(Flatten()) # this converts our 3D feature maps to 1D feature vectors\n",
        "\n",
        "model.add(Dense(64))\n",
        "model.add(Activation('relu'))\n",
        "model.add(Dense(2))\n",
        "model.add(Activation('softmax'))"
      ],
      "metadata": {
        "id": "p9blqoh-HH8B"
      },
      "execution_count": null,
      "outputs": []
    },
    {
      "cell_type": "code",
      "source": [
        "batch_size = 5\n",
        "nb_epochs = 10\n",
        "\n",
        "# Fetch the training data from the generator\n",
        "train_data_gen = data_gen(data=train_ds, batch_size=batch_size)\n",
        "\n",
        "# define number of training steps\n",
        "nb_train_steps =  train_ds.shape[0]//batch_size\n",
        "\n",
        "print(train_ds.shape)\n",
        "\n",
        "print(train_data_gen)\n",
        "\n",
        "print(\"Number of training and validation steps: {} and {} \".format(nb_train_steps, len(val_ds)))"
      ],
      "metadata": {
        "colab": {
          "base_uri": "https://localhost:8080/"
        },
        "id": "hWVJG5h2HYaI",
        "outputId": "f958ca92-49de-4072-91cf-59061d616b18"
      },
      "execution_count": null,
      "outputs": [
        {
          "output_type": "stream",
          "name": "stdout",
          "text": [
            "(572, 2)\n",
            "<generator object data_gen at 0x7f17f9b3ddd0>\n",
            "Number of training and validation steps: 114 and 71 \n"
          ]
        }
      ]
    },
    {
      "cell_type": "markdown",
      "source": [
        "We’ll use binary cross-entropy as our loss function because we have only 2 classes. Rmsprop will be our optimizer function. Training starts here."
      ],
      "metadata": {
        "id": "NAIqYdR2Ht0b"
      }
    },
    {
      "cell_type": "code",
      "source": [
        "model.compile(loss='binary_crossentropy',\n",
        "            optimizer='rmsprop',\n",
        "            metrics=['accuracy'])\n",
        "\n",
        "# Fit the model\n",
        "history = model.fit(train_data_gen, epochs=nb_epochs, steps_per_epoch=nb_train_steps, validation_data=(val_data,val_labels))"
      ],
      "metadata": {
        "colab": {
          "base_uri": "https://localhost:8080/"
        },
        "id": "wKTlULh1H3Ap",
        "outputId": "05b1fe15-1fbf-41be-a6a1-5d2c220d8da1"
      },
      "execution_count": null,
      "outputs": [
        {
          "output_type": "stream",
          "name": "stdout",
          "text": [
            "Epoch 1/10\n",
            "114/114 [==============================] - 125s 1s/step - loss: 0.3504 - accuracy: 0.6772 - val_loss: 0.2225 - val_accuracy: 0.8873\n",
            "Epoch 2/10\n",
            "114/114 [==============================] - 24s 211ms/step - loss: 0.1966 - accuracy: 0.9193 - val_loss: 0.1726 - val_accuracy: 0.9014\n",
            "Epoch 3/10\n",
            "114/114 [==============================] - 25s 219ms/step - loss: 0.1472 - accuracy: 0.9491 - val_loss: 0.1175 - val_accuracy: 0.9577\n",
            "Epoch 4/10\n",
            "114/114 [==============================] - 23s 202ms/step - loss: 0.0762 - accuracy: 0.9754 - val_loss: 0.1203 - val_accuracy: 0.9718\n",
            "Epoch 5/10\n",
            "114/114 [==============================] - 23s 206ms/step - loss: 0.0743 - accuracy: 0.9807 - val_loss: 0.1300 - val_accuracy: 0.9577\n",
            "Epoch 6/10\n",
            "114/114 [==============================] - 23s 201ms/step - loss: 0.0285 - accuracy: 0.9930 - val_loss: 0.1904 - val_accuracy: 0.9718\n",
            "Epoch 7/10\n",
            "114/114 [==============================] - 22s 196ms/step - loss: 0.0355 - accuracy: 0.9930 - val_loss: 0.2309 - val_accuracy: 0.9437\n",
            "Epoch 8/10\n",
            "114/114 [==============================] - 23s 198ms/step - loss: 0.0056 - accuracy: 1.0000 - val_loss: 0.2858 - val_accuracy: 0.9577\n",
            "Epoch 9/10\n",
            "114/114 [==============================] - 22s 197ms/step - loss: 0.0024 - accuracy: 0.9632 - val_loss: 0.3183 - val_accuracy: 0.9437\n",
            "Epoch 10/10\n",
            "114/114 [==============================] - 23s 198ms/step - loss: 0.0414 - accuracy: 0.9947 - val_loss: 0.6771 - val_accuracy: 0.9014\n"
          ]
        }
      ]
    },
    {
      "cell_type": "code",
      "source": [
        "acc = history.history['accuracy']\n",
        "val_acc = history.history['val_accuracy']\n",
        "\n",
        "loss = history.history['loss']\n",
        "val_loss = history.history['val_loss']\n",
        "\n",
        "epochs_range = range(nb_epochs)\n",
        "\n",
        "plt.figure(figsize=(8, 8))\n",
        "plt.subplot(1, 2, 1)\n",
        "plt.plot(epochs_range, acc, label='Training Accuracy')\n",
        "plt.plot(epochs_range, val_acc, label='Validation Accuracy')\n",
        "plt.legend(loc='lower right')\n",
        "plt.title('Training and Validation Accuracy')\n",
        "\n",
        "plt.subplot(1, 2, 2)\n",
        "plt.plot(epochs_range, loss, label='Training Loss')\n",
        "plt.plot(epochs_range, val_loss, label='Validation Loss')\n",
        "plt.legend(loc='upper right')\n",
        "plt.title('Training and Validation Loss')\n",
        "plt.show()"
      ],
      "metadata": {
        "colab": {
          "base_uri": "https://localhost:8080/",
          "height": 499
        },
        "id": "ZT4yd-J1JNwC",
        "outputId": "c4e39d61-9d0f-403a-e4d0-9fa845e03a09"
      },
      "execution_count": null,
      "outputs": [
        {
          "output_type": "display_data",
          "data": {
            "text/plain": [
              "<Figure size 576x576 with 2 Axes>"
            ],
            "image/png": "[encoded data removed]"
          },
          "metadata": {
            "needs_background": "light"
          }
        }
      ]
    },
    {
      "cell_type": "markdown",
      "source": [
        "high validation accuracy shows overfitting\n",
        "\n",
        "so we add dropouts to model\n",
        "\n",
        "What dropout technique technique does is it randomly selects neurons and ignores them during training."
      ],
      "metadata": {
        "id": "8UINZO4YJgS1"
      }
    },
    {
      "cell_type": "code",
      "source": [
        "model = Sequential()\n",
        "model.add(Conv2D(32, (3,3), input_shape = (150, 150, 3)))\n",
        "model.add(Activation('relu'))\n",
        "model.add(MaxPooling2D(pool_size=(2,2)))\n",
        "\n",
        "\n",
        "\n",
        "model.add(Conv2D(32, (3,3)))\n",
        "model.add(Activation('relu'))\n",
        "model.add(MaxPooling2D(pool_size=(2,2)))\n",
        "\n",
        "model.add(Dropout(0.25))\n",
        "\n",
        "\n",
        "model.add(Conv2D(64, (3,3)))\n",
        "model.add(Activation('relu'))\n",
        "model.add(MaxPooling2D(pool_size=(2,2)))\n",
        "\n",
        "model.add(Dropout(0.25))\n",
        "\n",
        "model.add(Flatten()) # this converts our 3D feature maps to 1D feature vectors\n",
        "\n",
        "model.add(Dense(128))\n",
        "model.add(Activation('relu'))\n",
        "\n",
        "model.add(Dropout(0.25))\n",
        "\n",
        "model.add(Dense(2))\n",
        "model.add(Activation('softmax'))\n"
      ],
      "metadata": {
        "id": "NcBVEBwzJh41"
      },
      "execution_count": null,
      "outputs": []
    },
    {
      "cell_type": "code",
      "source": [
        "model.compile(loss='binary_crossentropy',\n",
        "            optimizer='rmsprop',\n",
        "            metrics=['accuracy'])\n",
        "\n",
        "# Fit the model\n",
        "history = model.fit(train_data_gen, epochs=nb_epochs, steps_per_epoch=nb_train_steps, validation_data=(val_data,val_labels))"
      ],
      "metadata": {
        "colab": {
          "base_uri": "https://localhost:8080/"
        },
        "id": "djIcDNIHJpJk",
        "outputId": "09206f89-10ff-48a4-8f2e-7773928c8eab"
      },
      "execution_count": null,
      "outputs": [
        {
          "output_type": "stream",
          "name": "stdout",
          "text": [
            "Epoch 1/10\n",
            "114/114 [==============================] - 26s 220ms/step - loss: 0.3835 - accuracy: 0.6649 - val_loss: 0.3144 - val_accuracy: 0.8451\n",
            "Epoch 2/10\n",
            "114/114 [==============================] - 25s 216ms/step - loss: 0.2158 - accuracy: 0.8509 - val_loss: 0.2523 - val_accuracy: 0.9014\n",
            "Epoch 3/10\n",
            "114/114 [==============================] - 25s 216ms/step - loss: 0.1657 - accuracy: 0.8842 - val_loss: 0.1928 - val_accuracy: 0.9296\n",
            "Epoch 4/10\n",
            "114/114 [==============================] - 26s 228ms/step - loss: 0.1942 - accuracy: 0.9018 - val_loss: 0.1624 - val_accuracy: 0.9296\n",
            "Epoch 5/10\n",
            "114/114 [==============================] - 26s 227ms/step - loss: 0.1337 - accuracy: 0.9018 - val_loss: 0.1941 - val_accuracy: 0.9155\n",
            "Epoch 6/10\n",
            "114/114 [==============================] - 25s 216ms/step - loss: 0.0909 - accuracy: 0.9421 - val_loss: 0.1146 - val_accuracy: 0.9577\n",
            "Epoch 7/10\n",
            "114/114 [==============================] - 25s 219ms/step - loss: 0.1115 - accuracy: 0.9491 - val_loss: 0.0820 - val_accuracy: 0.9859\n",
            "Epoch 8/10\n",
            "114/114 [==============================] - 25s 218ms/step - loss: 0.0840 - accuracy: 0.9474 - val_loss: 0.0845 - val_accuracy: 0.9718\n",
            "Epoch 9/10\n",
            "114/114 [==============================] - 24s 215ms/step - loss: 0.0647 - accuracy: 0.9632 - val_loss: 0.1681 - val_accuracy: 0.9577\n",
            "Epoch 10/10\n",
            "114/114 [==============================] - 25s 217ms/step - loss: 0.0288 - accuracy: 0.9842 - val_loss: 0.0730 - val_accuracy: 1.0000\n"
          ]
        }
      ]
    },
    {
      "cell_type": "code",
      "source": [
        "acc = history.history['accuracy']\n",
        "val_acc = history.history['val_accuracy']\n",
        "\n",
        "loss = history.history['loss']\n",
        "val_loss = history.history['val_loss']\n",
        "\n",
        "epochs_range = range(nb_epochs)\n",
        "\n",
        "plt.figure(figsize=(8, 8))\n",
        "plt.subplot(1, 2, 1)\n",
        "plt.plot(epochs_range, acc, label='Training Accuracy')\n",
        "plt.plot(epochs_range, val_acc, label='Validation Accuracy')\n",
        "plt.legend(loc='lower right')\n",
        "plt.title('Training and Validation Accuracy')\n",
        "\n",
        "plt.subplot(1, 2, 2)\n",
        "plt.plot(epochs_range, loss, label='Training Loss')\n",
        "plt.plot(epochs_range, val_loss, label='Validation Loss')\n",
        "plt.legend(loc='upper right')\n",
        "plt.title('Training and Validation Loss')\n",
        "plt.show()"
      ],
      "metadata": {
        "colab": {
          "base_uri": "https://localhost:8080/",
          "height": 499
        },
        "id": "txS6izBuK-yE",
        "outputId": "055e113c-7feb-418e-d823-ee8c58c61c65"
      },
      "execution_count": null,
      "outputs": [
        {
          "output_type": "display_data",
          "data": {
            "text/plain": [
              "<Figure size 576x576 with 2 Axes>"
            ],
            "image/png": "[encoded data removed]"
          },
          "metadata": {
            "needs_background": "light"
          }
        }
      ]
    },
    {
      "cell_type": "code",
      "source": [
        "test_data, test_labels = prepare_dataset(test_ds)\n",
        "print(test_data.shape)"
      ],
      "metadata": {
        "colab": {
          "base_uri": "https://localhost:8080/"
        },
        "id": "n7TD0pV9LLGH",
        "outputId": "758305e3-37c9-4cc2-fe62-b9c03a32bdb7"
      },
      "execution_count": null,
      "outputs": [
        {
          "output_type": "stream",
          "name": "stdout",
          "text": [
            "(72, 150, 150, 3)\n"
          ]
        }
      ]
    },
    {
      "cell_type": "code",
      "source": [
        "loss, acc = model.evaluate(test_data, test_labels,batch_size=5)\n",
        "print('Loss and accuracy',loss,'&',acc)"
      ],
      "metadata": {
        "colab": {
          "base_uri": "https://localhost:8080/"
        },
        "id": "3V3kiGDCLStu",
        "outputId": "68212ba4-11f3-4cc1-8145-da737cd022fa"
      },
      "execution_count": null,
      "outputs": [
        {
          "output_type": "stream",
          "name": "stdout",
          "text": [
            "15/15 [==============================] - 1s 44ms/step - loss: 0.0644 - accuracy: 0.9861\n",
            "Loss and accuracy 0.0643523558974266 & 0.9861111044883728\n"
          ]
        }
      ]
    },
    {
      "cell_type": "code",
      "source": [
        "# Get predictions\n",
        "pred = model.predict(test_data, batch_size=5)\n",
        "pred = np.argmax(pred, axis=-1)\n",
        "\n",
        "# original labels\n",
        "labels = np.argmax(test_labels, axis=-1)\n",
        "from sklearn.metrics import classification_report\n",
        "print(classification_report(labels, pred))"
      ],
      "metadata": {
        "colab": {
          "base_uri": "https://localhost:8080/"
        },
        "id": "MpjhdAFLLc-R",
        "outputId": "5cf7aeab-e3cf-42b4-86cd-16d158fb14e0"
      },
      "execution_count": null,
      "outputs": [
        {
          "output_type": "stream",
          "name": "stdout",
          "text": [
            "15/15 [==============================] - 1s 45ms/step\n",
            "              precision    recall  f1-score   support\n",
            "\n",
            "           0       0.97      1.00      0.99        35\n",
            "           1       1.00      0.97      0.99        37\n",
            "\n",
            "    accuracy                           0.99        72\n",
            "   macro avg       0.99      0.99      0.99        72\n",
            "weighted avg       0.99      0.99      0.99        72\n",
            "\n"
          ]
        }
      ]
    },
    {
      "cell_type": "code",
      "source": [
        "import seaborn as sns\n",
        "\n",
        "# Get the confusion matrix\n",
        "cm = confusion_matrix(labels, pred)\n",
        "sns.heatmap(cm, annot=True, fmt='g', xticklabels=['normal', 'sick'],yticklabels=['normal', 'sick'] )"
      ],
      "metadata": {
        "colab": {
          "base_uri": "https://localhost:8080/",
          "height": 282
        },
        "id": "a1OWHyhYLpPZ",
        "outputId": "f612320f-fa8e-439f-bd2f-132639602307"
      },
      "execution_count": null,
      "outputs": [
        {
          "output_type": "execute_result",
          "data": {
            "text/plain": [
              "<matplotlib.axes._subplots.AxesSubplot at 0x7f17f282bd50>"
            ]
          },
          "metadata": {},
          "execution_count": 62
        },
        {
          "output_type": "display_data",
          "data": {
            "text/plain": [
              "<Figure size 432x288 with 2 Axes>"
            ],
            "image/png": "[encoded data removed]"
          },
          "metadata": {
            "needs_background": "light"
          }
        }
      ]
    },
    {
      "cell_type": "markdown",
      "source": [
        "Labeling Unknown images"
      ],
      "metadata": {
        "id": "ynVcj1pbL28O"
      }
    },
    {
      "cell_type": "markdown",
      "source": [
        "Loading unknown images "
      ],
      "metadata": {
        "id": "2uLqbaIkL-7C"
      }
    },
    {
      "cell_type": "code",
      "source": [
        "def load_unknown_images():\n",
        "    images_dir = Path('/content/drive/MyDrive/Deep learning pnuemonia /deep_learning_project/deep_learning_project/dataset1/unknown_images')\n",
        "    images = images_dir.glob('*.png')\n",
        "    img_data = []\n",
        "    for img in images:\n",
        "        img_data.append(img)\n",
        "    df = pd.DataFrame(img_data)\n",
        "    df.columns = ['images']\n",
        "    df = df.sample(frac=1).reset_index(drop=True)\n",
        "    return df"
      ],
      "metadata": {
        "id": "Pgj5n1BYL6SR"
      },
      "execution_count": null,
      "outputs": []
    },
    {
      "cell_type": "code",
      "source": [
        "df_unknown_images = load_unknown_images()\n",
        "\n",
        "df_unknown_images.shape"
      ],
      "metadata": {
        "colab": {
          "base_uri": "https://localhost:8080/"
        },
        "id": "sLZie0YzMWY-",
        "outputId": "eb9641fd-2885-43ed-a579-719386d8ca82"
      },
      "execution_count": null,
      "outputs": [
        {
          "output_type": "execute_result",
          "data": {
            "text/plain": [
              "(50, 1)"
            ]
          },
          "metadata": {},
          "execution_count": 64
        }
      ]
    },
    {
      "cell_type": "code",
      "source": [
        "def prepare_dataset_unknown(images):\n",
        "  \n",
        "    data = []\n",
        "    def prepare(case):\n",
        "        for img in case['images']:\n",
        "            img = cv2.imread(str(img))\n",
        "            img = cv2.resize(img,(150,150))\n",
        "            if img.shape[2] == 1:\n",
        "                img = np.dstack([img, img, img])\n",
        "            #img = cv2.cvtColor(img, cv2.COLOR_BGR2RGB)\n",
        "            img = img.astype(np.float32)/255.\n",
        "            data.append(img)\n",
        "        return data\n",
        "    \n",
        "    d = prepare(images)\n",
        "    #print(l)\n",
        "    d = np.array(d)\n",
        "    return d"
      ],
      "metadata": {
        "id": "027IsMzRMcig"
      },
      "execution_count": null,
      "outputs": []
    },
    {
      "cell_type": "code",
      "source": [
        "unknown_data = prepare_dataset_unknown(df_unknown_images)"
      ],
      "metadata": {
        "id": "kYmJntq7Mjho"
      },
      "execution_count": null,
      "outputs": []
    },
    {
      "cell_type": "code",
      "source": [
        "unknown_data.shape"
      ],
      "metadata": {
        "colab": {
          "base_uri": "https://localhost:8080/"
        },
        "id": "tF_4OLH7MoFj",
        "outputId": "a4dfadfd-32a2-4592-c879-64d772b89bbe"
      },
      "execution_count": null,
      "outputs": [
        {
          "output_type": "execute_result",
          "data": {
            "text/plain": [
              "(50, 150, 150, 3)"
            ]
          },
          "metadata": {},
          "execution_count": 67
        }
      ]
    },
    {
      "cell_type": "code",
      "source": [
        "# Get predictions\n",
        "pred = model.predict(unknown_data, batch_size=5)\n",
        "#print(pred)\n",
        "pred = np.argmax(pred, axis=-1)\n",
        "print(pred)"
      ],
      "metadata": {
        "colab": {
          "base_uri": "https://localhost:8080/"
        },
        "id": "k2vxcOkNMrxH",
        "outputId": "927fde5d-aa25-4afe-fe5f-8bf9dea58756"
      },
      "execution_count": null,
      "outputs": [
        {
          "output_type": "stream",
          "name": "stdout",
          "text": [
            "10/10 [==============================] - 0s 47ms/step\n",
            "[0 0 1 1 0 0 1 1 0 1 1 1 0 0 0 0 0 0 0 0 0 0 0 0 1 0 1 1 0 0 1 0 0 0 1 0 1\n",
            " 0 0 1 1 0 1 0 1 1 1 0 0 0]\n"
          ]
        }
      ]
    },
    {
      "cell_type": "code",
      "source": [
        "df_unknown_images[\"predictions (0-Normal, 1-Sick)\"] = pred\n",
        "submission = df_unknown_images[[\"images\",\"predictions (0-Normal, 1-Sick)\"]]\n",
        "submission.to_csv(\"predictions_3.csv\", index=False)"
      ],
      "metadata": {
        "id": "n1ivbvtOMxOY"
      },
      "execution_count": null,
      "outputs": []
    },
    {
      "cell_type": "markdown",
      "source": [
        "Measuring the performance of the model using dataset2"
      ],
      "metadata": {
        "id": "YcuZO0lRM29X"
      }
    },
    {
      "cell_type": "code",
      "source": [
        "# Loading dataset 2 into a dataframe\n",
        "\n",
        "def load_dataset2_images():\n",
        "    images_dir = Path('/content/drive/MyDrive/Deep learning pnuemonia /deep_learning_project/deep_learning_project/dataset2/images')\n",
        "    images = images_dir.glob('*.png')\n",
        "    img_data = []\n",
        "    for img in images:\n",
        "        img_data.append(img)\n",
        "    df = pd.DataFrame(img_data)\n",
        "    df.columns = ['images']\n",
        "    df = df.sample(frac=1).reset_index(drop=True)\n",
        "    return df"
      ],
      "metadata": {
        "id": "--RTt84UM-oX"
      },
      "execution_count": null,
      "outputs": []
    },
    {
      "cell_type": "code",
      "source": [
        "dataset2 = load_dataset2_images()\n",
        "print(dataset2)"
      ],
      "metadata": {
        "colab": {
          "base_uri": "https://localhost:8080/"
        },
        "id": "0i7o9F_UNKNx",
        "outputId": "ee596f74-2984-49a3-a781-6662dadfdc21"
      },
      "execution_count": null,
      "outputs": [
        {
          "output_type": "stream",
          "name": "stdout",
          "text": [
            "                                                images\n",
            "0    /content/drive/MyDrive/Deep learning pnuemonia...\n",
            "1    /content/drive/MyDrive/Deep learning pnuemonia...\n",
            "2    /content/drive/MyDrive/Deep learning pnuemonia...\n",
            "3    /content/drive/MyDrive/Deep learning pnuemonia...\n",
            "4    /content/drive/MyDrive/Deep learning pnuemonia...\n",
            "..                                                 ...\n",
            "219  /content/drive/MyDrive/Deep learning pnuemonia...\n",
            "220  /content/drive/MyDrive/Deep learning pnuemonia...\n",
            "221  /content/drive/MyDrive/Deep learning pnuemonia...\n",
            "222  /content/drive/MyDrive/Deep learning pnuemonia...\n",
            "223  /content/drive/MyDrive/Deep learning pnuemonia...\n",
            "\n",
            "[224 rows x 1 columns]\n"
          ]
        }
      ]
    },
    {
      "cell_type": "code",
      "source": [
        "# Reading the csv containing the image classes\n",
        "\n",
        "dataset2_classes = pd.read_csv('/content/drive/MyDrive/Deep learning pnuemonia /deep_learning_project/deep_learning_project/dataset2/image_classes.csv')\n",
        "print(dataset2_classes.columns)"
      ],
      "metadata": {
        "colab": {
          "base_uri": "https://localhost:8080/"
        },
        "id": "LHI5LAQqNYuh",
        "outputId": "c2de7909-768f-43a2-97c3-c9f96ef4b339"
      },
      "execution_count": null,
      "outputs": [
        {
          "output_type": "stream",
          "name": "stdout",
          "text": [
            "Index(['patient ', 'diagnosis (0-Normal, 1-Sick)'], dtype='object')\n"
          ]
        }
      ]
    },
    {
      "cell_type": "code",
      "source": [
        "from pathlib import Path\n",
        "dataset2['patient'] = dataset2['images'].apply(lambda path: Path(path).stem)\n",
        "print(dataset2.columns)"
      ],
      "metadata": {
        "colab": {
          "base_uri": "https://localhost:8080/"
        },
        "id": "Uv7hrWItNoPJ",
        "outputId": "c283c8ec-84a8-4f5c-9f04-8644309c4389"
      },
      "execution_count": null,
      "outputs": [
        {
          "output_type": "stream",
          "name": "stdout",
          "text": [
            "Index(['images', 'patient'], dtype='object')\n"
          ]
        }
      ]
    },
    {
      "cell_type": "code",
      "source": [
        "# merging the image classes to the image path\n",
        "\n",
        "dataset2_merged = pd.merge(dataset2_classes, dataset2, how='left', left_on='patient', right_on='patient')\n",
        "\n",
        "print(dataset2_merged.columns)\n",
        "\n",
        "dataset2_merged['diagnosis'] = dataset2_merged['diagnosis (0-Normal, 1-Sick)']\n",
        "\n",
        "print(dataset2_merged)"
      ],
      "metadata": {
        "id": "ev7u0etVQ1Y3"
      },
      "execution_count": null,
      "outputs": []
    },
    {
      "cell_type": "code",
      "source": [
        "def prepare_dataset2(images):\n",
        " \n",
        "    normal_cases = images.loc[images['diagnosis'] == 0]\n",
        "    \n",
        "    sick_cases = images.loc[images['diagnosis'] == 1]\n",
        "\n",
        "    print(sick_cases)\n",
        "    data, labels = ([] for x in range(2))\n",
        "    def prepare(case):\n",
        "        for img in case['images']:\n",
        "            img = cv2.imread(str(img))\n",
        "            img = cv2.resize(img,(150,150))\n",
        "            if img.shape[2] == 1:\n",
        "                img = np.dstack([img, img, img])\n",
        "            #img = cv2.cvtColor(img, cv2.COLOR_BGR2RGB)\n",
        "            img = img.astype(np.float32)/255.\n",
        "            if 0 in case['diagnosis'].values:\n",
        "                #print(case['labels'])\n",
        "                label = to_categorical(0 , num_classes=2)\n",
        "            else:\n",
        "                #print(case['diagnosis'])\n",
        "                label = to_categorical(1 , num_classes=2)\n",
        "            data.append(img)\n",
        "            labels.append(label)\n",
        "        return data, labels\n",
        "    prepare(normal_cases)\n",
        "    d,l = prepare(sick_cases)\n",
        "    #print(l)\n",
        "    d = np.array(d)\n",
        "    l = np.array(l)\n",
        "    return d,l"
      ],
      "metadata": {
        "id": "R6L9dkbGNsns"
      },
      "execution_count": null,
      "outputs": []
    },
    {
      "cell_type": "code",
      "source": [
        "d2_data, d2_labels = prepare_dataset2(dataset2_merged)\n",
        "dataset2_merged.shape\n",
        "d2_data.shape"
      ],
      "metadata": {
        "colab": {
          "base_uri": "https://localhost:8080/",
          "height": 200
        },
        "id": "BjXVEc5rQoWj",
        "outputId": "46888a59-f8d0-4755-a80b-43223f0d775f"
      },
      "execution_count": null,
      "outputs": [
        {
          "output_type": "error",
          "ename": "NameError",
          "evalue": "ignored",
          "traceback": [
            "\u001b[0;31m---------------------------------------------------------------------------\u001b[0m",
            "\u001b[0;31mNameError\u001b[0m                                 Traceback (most recent call last)",
            "\u001b[0;32m<ipython-input-88-f270866c2601>\u001b[0m in \u001b[0;36m<module>\u001b[0;34m\u001b[0m\n\u001b[0;32m----> 1\u001b[0;31m \u001b[0md2_data\u001b[0m\u001b[0;34m,\u001b[0m \u001b[0md2_labels\u001b[0m \u001b[0;34m=\u001b[0m \u001b[0mprepare_dataset2\u001b[0m\u001b[0;34m(\u001b[0m\u001b[0mdataset2_merged\u001b[0m\u001b[0;34m)\u001b[0m\u001b[0;34m\u001b[0m\u001b[0;34m\u001b[0m\u001b[0m\n\u001b[0m\u001b[1;32m      2\u001b[0m \u001b[0mdataset2_merged\u001b[0m\u001b[0;34m.\u001b[0m\u001b[0mshape\u001b[0m\u001b[0;34m\u001b[0m\u001b[0;34m\u001b[0m\u001b[0m\n\u001b[1;32m      3\u001b[0m \u001b[0md2_data\u001b[0m\u001b[0;34m.\u001b[0m\u001b[0mshape\u001b[0m\u001b[0;34m\u001b[0m\u001b[0;34m\u001b[0m\u001b[0m\n",
            "\u001b[0;31mNameError\u001b[0m: name 'dataset2_merged' is not defined"
          ]
        }
      ]
    }
  ]
}