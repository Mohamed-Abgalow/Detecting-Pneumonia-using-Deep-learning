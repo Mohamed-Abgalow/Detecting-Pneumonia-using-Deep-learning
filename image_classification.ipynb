{
  "nbformat": 4,
  "nbformat_minor": 0,
  "metadata": {
    "colab": {
      "name": "Untitled5.ipynb",
      "provenance": [],
      "authorship_tag": "ABX9TyNLtxeKe8vHVekPL3YeyLiq",
      "include_colab_link": true
    },
    "kernelspec": {
      "name": "python3",
      "display_name": "Python 3"
    },
    "language_info": {
      "name": "python"
    }
  },
  "cells": [
    {
      "cell_type": "markdown",
      "metadata": {
        "id": "view-in-github",
        "colab_type": "text"
      },
      "source": [
        "<a href=\"https://colab.research.google.com/github/Mohamed-Abgalow/Detecting-Pneumonia-using-Deep-learning/blob/main/image_classification.ipynb\" target=\"_parent\"><img src=\"https://colab.research.google.com/assets/colab-badge.svg\" alt=\"Open In Colab\"/></a>"
      ]
    },
    {
      "cell_type": "code",
      "execution_count": null,
      "metadata": {
        "id": "5CQpEBPcfQz3"
      },
      "outputs": [],
      "source": [
        "import os\n",
        "import glob\n",
        "import cv2\n",
        "import numpy as np\n",
        "import pandas as pd\n",
        "from PIL import Image\n",
        "from pathlib import Path\n",
        "from keras.models import Sequential, Model, load_model\n",
        "from keras.applications.vgg16 import VGG16, preprocess_input\n",
        "from keras.preprocessing.image import ImageDataGenerator\n",
        "from keras.layers import Conv2D, MaxPooling2D, Dense, Dropout, Input, Flatten, Activation\n",
        "from keras.optimizers import Adam, SGD, RMSprop\n",
        "from keras.callbacks import Callback, EarlyStopping\n",
        "from keras.utils import to_categorical, load_img, img_to_array\n",
        "from sklearn.metrics import confusion_matrix\n",
        "from keras import backend as K\n",
        "import matplotlib.pyplot as plt\n",
        "%matplotlib inline"
      ]
    },
    {
      "cell_type": "code",
      "source": [
        "os.listdir(\"dataset1/\")"
      ],
      "metadata": {
        "id": "c4Psjh-BfT0k"
      },
      "execution_count": null,
      "outputs": []
    },
    {
      "cell_type": "code",
      "source": [
        "def load_images():\n",
        "    images_dir = Path('dataset1/known_images/')\n",
        "    normal_images = images_dir.glob('normal*.png')\n",
        "    sick_images = images_dir.glob('sick*.png')\n",
        "    img_data = []\n",
        "    label_data = []\n",
        "    for img in normal_images:\n",
        "        img_data.append(img)\n",
        "        label_data.append('normal')\n",
        "    for img in sick_images:\n",
        "        img_data.append(img)\n",
        "        label_data.append('sick')\n",
        "    df = pd.DataFrame(img_data)\n",
        "    df.columns = ['images']\n",
        "    df['labels'] = label_data\n",
        "    df = df.sample(frac=1).reset_index(drop=True)\n",
        "    return df"
      ],
      "metadata": {
        "id": "-bIF2i0vfaEM"
      },
      "execution_count": null,
      "outputs": []
    },
    {
      "cell_type": "code",
      "source": [
        "df_known_images = load_images()\n",
        "\n",
        "df_known_images"
      ],
      "metadata": {
        "id": "Jpt2zgoafb14"
      },
      "execution_count": null,
      "outputs": []
    }
  ]
}